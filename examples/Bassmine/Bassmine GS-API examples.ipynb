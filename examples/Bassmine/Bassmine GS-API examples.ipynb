{
 "cells": [
  {
   "cell_type": "markdown",
   "metadata": {},
   "source": [
    "# Bassmine GS-API examples"
   ]
  },
  {
   "cell_type": "markdown",
   "metadata": {},
   "source": [
    "If not installed gsapi python module yet, follow the instructions:\n",
    "\n",
    "Download : https://github.com/GiantSteps/GS_API\n",
    "\n",
    "Open terminal:\n",
    "- cd GS_API/python\n",
    "- python setup.py build\n",
    "- python setup.py install"
   ]
  },
  {
   "cell_type": "code",
   "execution_count": null,
   "metadata": {
    "collapsed": false
   },
   "outputs": [],
   "source": [
    "# Import the GS API module\n",
    "from gsapi import GSPattern\n"
   ]
  },
  {
   "cell_type": "markdown",
   "metadata": {},
   "source": [
    "All submodules within API provide help by typing help(Name of the module)"
   ]
  },
  {
   "cell_type": "code",
   "execution_count": null,
   "metadata": {
    "collapsed": false
   },
   "outputs": [],
   "source": [
    "help(GSPattern)\n",
    "#help(GSBassmineAnalysis)"
   ]
  },
  {
   "cell_type": "markdown",
   "metadata": {},
   "source": [
    "Following script commands present examples of Bassline rhythmic analysis for generative processes using GS-API."
   ]
  },
  {
   "cell_type": "code",
   "execution_count": null,
   "metadata": {
    "collapsed": true
   },
   "outputs": [],
   "source": [
    "import gsapi.GSBassmineAnalysis as bassmine\n",
    "import gsapi.GSBassmineMarkov as markov\n",
    "import json\n",
    "import csv\n",
    "import random"
   ]
  },
  {
   "cell_type": "markdown",
   "metadata": {},
   "source": [
    "First step is to determine the datasets to use. In this case we need to provide a dataset that contains MIDI clips of basslines and drums in pairs. That means that each bass MIDI file has an associated drum MIDI file. \n",
    "\n",
    "The implemented algorithm builds two Markov models.\n",
    "\n",
    "First, contains the transition probabilities between bass beat patterns (temporal)\n",
    "Second, contains the concurrency probabilities between kick-drum and bass beat patterns.\n",
    "Moreover, the initial probabilites of events are computed, used to trigger the generation.\n"
   ]
  },
  {
   "cell_type": "code",
   "execution_count": null,
   "metadata": {
    "collapsed": true
   },
   "outputs": [],
   "source": [
    "# STYLE DICTIONARY\n",
    "style = {1: 'booka_shade', 2: 'mr_scruff'}\n",
    "\n",
    "# SELECT STYLE\n",
    "style_id = 2\n",
    "\n",
    "bass_path = '../../corpus/bassmine/' + style[style_id] + '/bass'\n",
    "drum_path = '../../corpus/bassmine/' + style[style_id] + '/drums'"
   ]
  },
  {
   "cell_type": "markdown",
   "metadata": {},
   "source": [
    "The implemented algorithm in [bassmine.corpus_analysis] builds two Markov models.\n",
    "\n",
    "- Transition probabilities between bass beat patterns (temporal). \n",
    "- Concurrency probabilities between kick-drum and bass beat patterns (interlocking). \n",
    "\n",
    "Moreover, the initial probabilites of events are computed, used to trigger the generation."
   ]
  },
  {
   "cell_type": "code",
   "execution_count": null,
   "metadata": {
    "collapsed": false
   },
   "outputs": [],
   "source": [
    "# Analyse corpus and build Markov model\n",
    "MM, kick_patterns = bassmine.corpus_analysis(bass_path, drum_path)\n",
    "# Normalize transition matrices\n",
    "MM.normalize_model()"
   ]
  },
  {
   "cell_type": "markdown",
   "metadata": {},
   "source": [
    "Once models are computed we can export them."
   ]
  },
  {
   "cell_type": "code",
   "execution_count": null,
   "metadata": {
    "collapsed": true
   },
   "outputs": [],
   "source": [
    "# Output folder (to use with Max this folder should be Bassmine-master/models/)\n",
    "_path = 'output/'\n",
    "#  Uncomment to create models and export to pickle. REQUIRED to add new collections and use them in Max app.\n",
    "# Export to pickle files\n",
    "bassmine.write2pickle('initial', MM.get_initial(),_path + style[style_id] + '/')\n",
    "bassmine.write2pickle('temporal', MM.get_temporal(),_path + style[style_id] + '/')\n",
    "bassmine.write2pickle('interlocking', MM.get_interlocking(),_path + style[style_id] + '/')"
   ]
  },
  {
   "cell_type": "markdown",
   "metadata": {},
   "source": [
    "## Stylistic transformations using Markov Models with constraints"
   ]
  },
  {
   "cell_type": "code",
   "execution_count": null,
   "metadata": {
    "collapsed": false
   },
   "outputs": [],
   "source": [
    "# Given a Kick pattern generate a NHMM with interlocking constraint\n",
    "target_kick = kick_patterns[random.randint(0,len(kick_patterns)-1)]\n",
    "print \"Target Kick\", target_kick\n",
    "\n",
    "markov.constrainMM(MM, target_kick, _path)"
   ]
  },
  {
   "cell_type": "code",
   "execution_count": null,
   "metadata": {
    "collapsed": false
   },
   "outputs": [],
   "source": [
    "# Create variation model\n",
    "target_bass = [5,5,-5,5,5,-5,5,5]\n",
    "markov.variationMM(MM, target_bass, _path)"
   ]
  },
  {
   "cell_type": "code",
   "execution_count": null,
   "metadata": {
    "collapsed": true
   },
   "outputs": [],
   "source": []
  }
 ],
 "metadata": {
  "kernelspec": {
   "display_name": "Python 2",
   "language": "python",
   "name": "python2"
  },
  "language_info": {
   "codemirror_mode": {
    "name": "ipython",
    "version": 2
   },
   "file_extension": ".py",
   "mimetype": "text/x-python",
   "name": "python",
   "nbconvert_exporter": "python",
   "pygments_lexer": "ipython2",
   "version": "2.7.11rc1"
  }
 },
 "nbformat": 4,
 "nbformat_minor": 0
}
