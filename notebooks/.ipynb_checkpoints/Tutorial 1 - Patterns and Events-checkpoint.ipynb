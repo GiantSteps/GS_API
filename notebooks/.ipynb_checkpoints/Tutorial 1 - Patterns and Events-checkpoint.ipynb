{
 "cells": [
  {
   "cell_type": "markdown",
   "metadata": {},
   "source": [
    "## Tutorial 1: Patterns and Events"
   ]
  },
  {
   "cell_type": "markdown",
   "metadata": {},
   "source": [
    "    The GS_API is organised around two main classes the GSPattern and GSPatternEvent, declared in the GSPattern module. A GSPattern is basically an interconnected collection of events, with the following class variables: duration , bpm, timeSignature, name, originFilePath, and a list (events) with all the events in the pattern. Each event in a GSPattern is itself an object of type GSPatternEvent.\n",
    "    \n",
    "    The GSIO module provides fuctionanlity to import and export MIDI and JSON files.\n",
    "    \n",
    "    "
   ]
  },
  {
   "cell_type": "markdown",
   "metadata": {},
   "source": []
  },
  {
   "cell_type": "code",
   "execution_count": 5,
   "metadata": {
    "collapsed": true
   },
   "outputs": [],
   "source": [
    "from gsapi import GSIO"
   ]
  },
  {
   "cell_type": "markdown",
   "metadata": {},
   "source": [
    "First, we load a MIDI file. The GSIO.fromMidi function already loads a MIDI file onto a GS_Pattern."
   ]
  },
  {
   "cell_type": "code",
   "execution_count": 12,
   "metadata": {
    "collapsed": false
   },
   "outputs": [],
   "source": [
    "myPattern = GSIO.fromMidi(\"../../corpus/harmony/I5-IV.mid\", \"pitchNames\")"
   ]
  },
  {
   "cell_type": "code",
   "execution_count": 16,
   "metadata": {
    "collapsed": false
   },
   "outputs": [
    {
     "name": "stdout",
     "output_type": "stream",
     "text": [
      "GSPattern I5-IV.mid\n",
      "['D3'] 50 127 00.05 03.95\n",
      "['A3'] 57 127 00.05 03.95\n",
      "['D4'] 62 127 00.05 03.95\n",
      "['D3'] 50 127 04.00 02.25\n",
      "['G3'] 55 127 04.00 02.25\n",
      "['B3'] 59 127 04.00 02.25\n",
      "['D3'] 50 127 06.50 01.25\n",
      "['G3'] 55 127 06.50 01.25\n",
      "['B3'] 59 127 06.50 01.25\n",
      "\n"
     ]
    }
   ],
   "source": [
    "print myPattern"
   ]
  },
  {
   "cell_type": "code",
   "execution_count": 17,
   "metadata": {
    "collapsed": false
   },
   "outputs": [
    {
     "ename": "AttributeError",
     "evalue": "'GSPattern' object has no attribute 'fillWithSilence'",
     "output_type": "error",
     "traceback": [
      "\u001b[0;31m---------------------------------------------------------------------------\u001b[0m",
      "\u001b[0;31mAttributeError\u001b[0m                            Traceback (most recent call last)",
      "\u001b[0;32m<ipython-input-17-40ad386559de>\u001b[0m in \u001b[0;36m<module>\u001b[0;34m()\u001b[0m\n\u001b[0;32m----> 1\u001b[0;31m \u001b[0mmyPattern\u001b[0m\u001b[0;34m.\u001b[0m\u001b[0mfillWithSilence\u001b[0m\u001b[0;34m(\u001b[0m\u001b[0;34m)\u001b[0m\u001b[0;34m\u001b[0m\u001b[0m\n\u001b[0m",
      "\u001b[0;31mAttributeError\u001b[0m: 'GSPattern' object has no attribute 'fillWithSilence'"
     ]
    }
   ],
   "source": [
    "myPattern.fillWithSilence()"
   ]
  },
  {
   "cell_type": "code",
   "execution_count": 18,
   "metadata": {
    "collapsed": false
   },
   "outputs": [
    {
     "ename": "AttributeError",
     "evalue": "'GSPattern' object has no attribute 'fillWithPreviousEvent'",
     "output_type": "error",
     "traceback": [
      "\u001b[0;31m---------------------------------------------------------------------------\u001b[0m",
      "\u001b[0;31mAttributeError\u001b[0m                            Traceback (most recent call last)",
      "\u001b[0;32m<ipython-input-18-d94d7067d65b>\u001b[0m in \u001b[0;36m<module>\u001b[0;34m()\u001b[0m\n\u001b[1;32m     23\u001b[0m \u001b[0mmyPattern\u001b[0m\u001b[0;34m.\u001b[0m\u001b[0mreorderEvents\u001b[0m\u001b[0;34m(\u001b[0m\u001b[0;34m)\u001b[0m\u001b[0;34m\u001b[0m\u001b[0m\n\u001b[1;32m     24\u001b[0m \u001b[0mmyPattern\u001b[0m\u001b[0;34m.\u001b[0m\u001b[0mquantize\u001b[0m\u001b[0;34m(\u001b[0m\u001b[0;36m0.25\u001b[0m\u001b[0;34m)\u001b[0m\u001b[0;34m\u001b[0m\u001b[0m\n\u001b[0;32m---> 25\u001b[0;31m \u001b[0mmyPattern\u001b[0m\u001b[0;34m.\u001b[0m\u001b[0mfillWithPreviousEvent\u001b[0m\u001b[0;34m(\u001b[0m\u001b[0;34m)\u001b[0m\u001b[0;34m\u001b[0m\u001b[0m\n\u001b[0m\u001b[1;32m     26\u001b[0m \u001b[0mmyPattern\u001b[0m\u001b[0;34m.\u001b[0m\u001b[0mfillWithSilences\u001b[0m\u001b[0;34m(\u001b[0m\u001b[0;34m)\u001b[0m  \u001b[0;31m# fills empty time intervals with silences\u001b[0m\u001b[0;34m\u001b[0m\u001b[0m\n\u001b[1;32m     27\u001b[0m \u001b[0;32mprint\u001b[0m \u001b[0mmyPattern\u001b[0m\u001b[0;34m\u001b[0m\u001b[0m\n",
      "\u001b[0;31mAttributeError\u001b[0m: 'GSPattern' object has no attribute 'fillWithPreviousEvent'"
     ]
    }
   ],
   "source": [
    "# get start time of first event in the pattern:\n",
    "start_event = myPattern.events[0].startTime\n",
    "\n",
    "# get all vertical components at start time:\n",
    "first_chord = myPattern.getStartingEventsAtTime(start_event)\n",
    "\n",
    "# get the midi note numbers of the first chord:\n",
    "first_notes = []\n",
    "for e in first_chord:\n",
    "    first_notes.append(e.pitch)\n",
    "\n",
    "# we sort them in ascending order:\n",
    "# (afterwards we could check if the aggregate is a chord and if it is in root position)\n",
    "first_notes.sort()\n",
    "first_root = first_notes[0]\n",
    "\n",
    "# find a transposition factor and transpose the progression to middle C:\n",
    "transposition_interval = 60 - first_root\n",
    "myPattern.transpose(transposition_interval)\n",
    "\n",
    "# POSIBLY USEFUL FUNCTIONS\n",
    "myPattern.removeOverlapped(usePitchValues=True)\n",
    "myPattern.reorderEvents()\n",
    "myPattern.quantize(0.25)\n",
    "myPattern.fillWithPreviousEvent()\n",
    "myPattern.fillWithSilences()  # fills empty time intervals with silences\n",
    "print myPattern\n",
    "\n",
    "GSIO.toMIDI(myPattern, path='./', name='test')\n"
   ]
  },
  {
   "cell_type": "code",
   "execution_count": null,
   "metadata": {
    "collapsed": true
   },
   "outputs": [],
   "source": []
  }
 ],
 "metadata": {
  "kernelspec": {
   "display_name": "Python 2",
   "language": "python",
   "name": "python2"
  },
  "language_info": {
   "codemirror_mode": {
    "name": "ipython",
    "version": 2
   },
   "file_extension": ".py",
   "mimetype": "text/x-python",
   "name": "python",
   "nbconvert_exporter": "python",
   "pygments_lexer": "ipython2",
   "version": "2.7.12"
  }
 },
 "nbformat": 4,
 "nbformat_minor": 1
}
