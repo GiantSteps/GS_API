{
 "cells": [
  {
   "cell_type": "markdown",
   "metadata": {},
   "source": [
    "## Tutorial 2: Chords"
   ]
  },
  {
   "cell_type": "markdown",
   "metadata": {},
   "source": [
    "Import the complete GS API:"
   ]
  },
  {
   "cell_type": "code",
   "execution_count": null,
   "metadata": {
    "collapsed": false
   },
   "outputs": [],
   "source": [
    "from gsapi import *"
   ]
  },
  {
   "cell_type": "markdown",
   "metadata": {},
   "source": [
    "We can use \"GSIO.fromMidi\" to load a regular MIDI file onto a GS_Pattern:"
   ]
  },
  {
   "cell_type": "code",
   "execution_count": null,
   "metadata": {
    "collapsed": false
   },
   "outputs": [],
   "source": [
    "myPattern = GSIO.fromMidi(\"../../corpus/harmony/I5-IV.mid\", \"pitchNames\")\n",
    "print type(myPattern)\n",
    "print myPattern"
   ]
  },
  {
   "cell_type": "markdown",
   "metadata": {},
   "source": [
    "In this example, we are going to take a midi file and transpose its content so that its first note is C4.\n",
    "For that, we can request the start time of the first event in the pattern:"
   ]
  },
  {
   "cell_type": "code",
   "execution_count": null,
   "metadata": {
    "collapsed": false
   },
   "outputs": [],
   "source": [
    "first_event_time = myPattern.events[0].startTime\n",
    "print first_event_time"
   ]
  },
  {
   "cell_type": "markdown",
   "metadata": {},
   "source": [
    "And get all the vertical components at start time, in case there is a chord:"
   ]
  },
  {
   "cell_type": "code",
   "execution_count": null,
   "metadata": {
    "collapsed": false
   },
   "outputs": [],
   "source": [
    "first_chord = myPattern.getStartingEventsAtTime(first_event_time)\n",
    "print first_chord"
   ]
  },
  {
   "cell_type": "markdown",
   "metadata": {},
   "source": [
    "We filter the midi note numbers of the first chord:"
   ]
  },
  {
   "cell_type": "code",
   "execution_count": null,
   "metadata": {
    "collapsed": false
   },
   "outputs": [],
   "source": [
    "first_notes_midi = []\n",
    "for e in first_chord:\n",
    "    first_notes_midi.append(e.pitch)\n",
    "print first_notes_midi"
   ]
  },
  {
   "cell_type": "markdown",
   "metadata": {},
   "source": [
    "And make sure they are sorted in ascending order. Then we take the lowest note of the aggregate:"
   ]
  },
  {
   "cell_type": "code",
   "execution_count": null,
   "metadata": {
    "collapsed": false
   },
   "outputs": [],
   "source": [
    "first_notes_midi.sort()\n",
    "tonic = first_notes_midi[0]\n",
    "print tonic"
   ]
  },
  {
   "cell_type": "markdown",
   "metadata": {},
   "source": [
    "Now we can find a transposition factor and transpose the pattern so that the first note (or lowest note of the first chord) is C4:"
   ]
  },
  {
   "cell_type": "code",
   "execution_count": null,
   "metadata": {
    "collapsed": false
   },
   "outputs": [],
   "source": [
    "transposition_interval = 60 - tonic\n",
    "myPattern.transpose(transposition_interval)\n",
    "print myPattern"
   ]
  },
  {
   "cell_type": "markdown",
   "metadata": {},
   "source": [
    "There are a few methods available to perform sanity check of the GS Pattern and reformat it if necessary. The following methods force that events in the GS Pattern are ordered strictly in chronological order after manipulations and without overlapping notes:\n"
   ]
  },
  {
   "cell_type": "code",
   "execution_count": null,
   "metadata": {
    "collapsed": false
   },
   "outputs": [],
   "source": [
    "myPattern.reorderEvents()\n",
    "myPattern.removeOverlapped(usePitchValues=True)"
   ]
  },
  {
   "cell_type": "markdown",
   "metadata": {},
   "source": [
    "Normally we would quantize the pattern, so its durations and onsets align to the desired resolution."
   ]
  },
  {
   "cell_type": "code",
   "execution_count": null,
   "metadata": {
    "collapsed": false
   },
   "outputs": [],
   "source": [
    "myPattern.quantize(0.25, quantizeStartTime=True, quantizeDuration=True)\n",
    "print myPattern"
   ]
  },
  {
   "cell_type": "markdown",
   "metadata": {},
   "source": [
    "After quantisation, you could create \"silence\" events filling empty time intervals (if any) in order to export the pattern to a score software."
   ]
  },
  {
   "cell_type": "code",
   "execution_count": null,
   "metadata": {
    "collapsed": false
   },
   "outputs": [],
   "source": [
    "myPattern.fillWithSilences()\n",
    "print myPattern"
   ]
  },
  {
   "cell_type": "markdown",
   "metadata": {
    "collapsed": true
   },
   "source": [
    "Alternatively, you can fill the gaps (silences) with the duration of the previous sounding event(s)"
   ]
  },
  {
   "cell_type": "code",
   "execution_count": null,
   "metadata": {
    "collapsed": false,
    "scrolled": true
   },
   "outputs": [],
   "source": [
    "myPattern.removeByTags([\"silence\"])\n",
    "myPattern.fillWithPreviousEvent()\n",
    "myPattern.fillWithSilences()\n",
    "print myPattern"
   ]
  },
  {
   "cell_type": "markdown",
   "metadata": {},
   "source": [
    "Last, you can export all the modifications onto a new MIDI file:"
   ]
  },
  {
   "cell_type": "code",
   "execution_count": null,
   "metadata": {
    "collapsed": false
   },
   "outputs": [],
   "source": [
    "GSIO.toMIDI(myPattern, path='./', name='test')"
   ]
  }
 ],
 "metadata": {
  "kernelspec": {
   "display_name": "Python 2",
   "language": "python",
   "name": "python2"
  },
  "language_info": {
   "codemirror_mode": {
    "name": "ipython",
    "version": 2
   },
   "file_extension": ".py",
   "mimetype": "text/x-python",
   "name": "python",
   "nbconvert_exporter": "python",
   "pygments_lexer": "ipython2",
   "version": "2.7.12"
  }
 },
 "nbformat": 4,
 "nbformat_minor": 0
}
