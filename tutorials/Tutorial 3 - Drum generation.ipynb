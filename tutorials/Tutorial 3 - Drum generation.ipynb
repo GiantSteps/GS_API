{
 "cells": [
  {
   "cell_type": "markdown",
   "metadata": {},
   "source": [
    "# GS-API examples"
   ]
  },
  {
   "cell_type": "markdown",
   "metadata": {},
   "source": [
    "If not installed gsapi python module yet, follow the instructions:\n",
    "\n",
    "Download : https://github.com/GiantSteps/GS_API\n",
    "\n",
    "Open terminal:\n",
    "- cd GS_API/python\n",
    "- python setup.py build\n",
    "- python setup.py install"
   ]
  },
  {
   "cell_type": "code",
   "execution_count": null,
   "metadata": {
    "collapsed": false
   },
   "outputs": [],
   "source": [
    "# Import the GS API module\n",
    "from gsapi import GSPattern"
   ]
  },
  {
   "cell_type": "markdown",
   "metadata": {},
   "source": [
    "All submodules within API provide help by typing help(Name of the module)"
   ]
  },
  {
   "cell_type": "code",
   "execution_count": null,
   "metadata": {
    "collapsed": false
   },
   "outputs": [],
   "source": [
    "help(GSPattern)\n",
    "#help(GSBassmineAnalysis)"
   ]
  },
  {
   "cell_type": "markdown",
   "metadata": {},
   "source": [
    "### Drums example"
   ]
  },
  {
   "cell_type": "code",
   "execution_count": null,
   "metadata": {
    "collapsed": true
   },
   "outputs": [],
   "source": [
    "from gsapi import *\n",
    "\n",
    "#Select the folder where the MIDI files for analysis are located\n",
    "\n",
    "defaultMidiFolder = \"../../corpus/midiTests\"\n",
    "\n",
    "#Use 'GSDataset' to extract the MIDI file\n",
    "\n",
    "dataset = GSDataset(midiFolder=defaultMidiFolder,midiGlob=\"motown.mid\",midiMap=GSIO.generalMidiMap,checkForOverlapped=True)\n",
    "\n",
    "#use the function'splitInEqualLengthPatterns' to split the \n",
    "#contents of the dataset and to set the minimum \"grain\" or \"timeframe\" of the analysis\n",
    "#save each slice as an element in a list called \"allPatternsSliced\"\n",
    "\n",
    "allPatternsSliced = []\n",
    "sizeOfSlice = 16\n",
    "for midiPattern in dataset.patterns:\n",
    "    for sliced in midiPattern.splitInEqualLengthPatterns(sizeOfSlice):\n",
    "        allPatternsSliced+=[sliced]\n",
    "\n",
    "#set the parameters of the markov style: the order, the number of steps and the final duration of the output\n",
    "#and create an instance of GSMarkovStyle called \"markovstyle\"\n",
    "\n",
    "markovStyle = GSMarkovStyle(order=1,numSteps=16,loopDuration=sizeOfSlice);\n",
    "\n",
    "#generate a style based on the sliced patterns in the list \"allPatternsSliced\"\n",
    "markovStyle.generateStyle(allPatternsSliced)\n",
    "\n",
    "#Create a pattern simply using the function \"generatePattern\" of the markovStyle\n",
    "newPattern = markovStyle.generatePattern()\n",
    "\n",
    "# Export to MIDI\n",
    "newPattern.toMIDI(name=\"drums\", midiMap=MidiMap.generalMidiMap)\n",
    "\n",
    "#print the pattern for visualization\n",
    "print newPattern\n",
    "\n",
    "#Extract the only the pattern of the kick drum from the complete pattern.\n",
    "#Using the function \"getPatternWithTags\" and asking for the 'Acoustic Bass Drum' tag\n",
    "#makes it easy. To create such list, we should first extract the events as a class called \"justkick\"\n",
    "#and then extract each event on the class using justkick.events.\n",
    "\n",
    "\n",
    "justkick=newPattern.getPatternWithTags('Acoustic Bass Drum', exactSearch=True, copy=True)\n",
    "\n",
    "kickAsList=[0]*sizeOfSlice\n",
    "for s,e in enumerate(justkick.events):\n",
    "\n",
    "    kickAsList[int(e.startTime)]=1\n",
    "\n",
    "print kickAsList"
   ]
  }
 ],
 "metadata": {
  "kernelspec": {
   "display_name": "Python 2",
   "language": "python",
   "name": "python2"
  },
  "language_info": {
   "codemirror_mode": {
    "name": "ipython",
    "version": 2
   },
   "file_extension": ".py",
   "mimetype": "text/x-python",
   "name": "python",
   "nbconvert_exporter": "python",
   "pygments_lexer": "ipython2",
   "version": "2.7.11rc1"
  }
 },
 "nbformat": 4,
 "nbformat_minor": 0
}
