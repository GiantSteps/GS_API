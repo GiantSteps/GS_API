{
 "cells": [
  {
   "cell_type": "markdown",
   "metadata": {},
   "source": [
    "## Tutorial 1: Patterns and Events"
   ]
  },
  {
   "cell_type": "markdown",
   "metadata": {},
   "source": [
    "    The GS_API is organised around two main classes the GSPattern and GSPatternEvent, declared in the GSPattern module. A GSPattern is basically an interconnected collection of events, with the following class variables: duration , bpm, timeSignature, name, originFilePath, and a list (events) with all the events in the pattern. Each event in a GSPattern is itself an object of type GSPatternEvent.\n",
    "    \n",
    "    The GSIO module provides fuctionanlity to import and export MIDI and JSON files.\n",
    "    \n",
    "    "
   ]
  },
  {
   "cell_type": "code",
   "execution_count": null,
   "metadata": {
    "collapsed": true
   },
   "outputs": [],
   "source": [
    "from gsapi import GSIO"
   ]
  },
  {
   "cell_type": "markdown",
   "metadata": {},
   "source": [
    "First, we load a MIDI file. The GSIO.fromMidi function already loads a MIDI file onto a GS_Pattern."
   ]
  },
  {
   "cell_type": "code",
   "execution_count": null,
   "metadata": {
    "collapsed": false
   },
   "outputs": [],
   "source": [
    "myPattern = GSIO.fromMidi(\"../../corpus/harmony/I5-IV.mid\", \"pitchNames\")"
   ]
  },
  {
   "cell_type": "code",
   "execution_count": null,
   "metadata": {
    "collapsed": false
   },
   "outputs": [],
   "source": [
    "print myPattern"
   ]
  },
  {
   "cell_type": "code",
   "execution_count": null,
   "metadata": {
    "collapsed": false
   },
   "outputs": [],
   "source": [
    "myPattern.fillWithSilence()"
   ]
  },
  {
   "cell_type": "code",
   "execution_count": null,
   "metadata": {
    "collapsed": false
   },
   "outputs": [],
   "source": [
    "# get start time of first event in the pattern:\n",
    "start_event = myPattern.events[0].startTime\n",
    "\n",
    "# get all vertical components at start time:\n",
    "first_chord = myPattern.getStartingEventsAtTime(start_event)\n",
    "\n",
    "# get the midi note numbers of the first chord:\n",
    "first_notes = []\n",
    "for e in first_chord:\n",
    "    first_notes.append(e.pitch)\n",
    "\n",
    "# we sort them in ascending order:\n",
    "# (afterwards we could check if the aggregate is a chord and if it is in root position)\n",
    "first_notes.sort()\n",
    "first_root = first_notes[0]\n",
    "\n",
    "# find a transposition factor and transpose the progression to middle C:\n",
    "transposition_interval = 60 - first_root\n",
    "myPattern.transpose(transposition_interval)\n",
    "\n",
    "# POSIBLY USEFUL FUNCTIONS\n",
    "myPattern.removeOverlapped(usePitchValues=True)\n",
    "myPattern.reorderEvents()\n",
    "myPattern.quantize(0.25)\n",
    "myPattern.fillWithPreviousEvent()\n",
    "myPattern.fillWithSilences()  # fills empty time intervals with silences\n",
    "print myPattern\n",
    "\n",
    "GSIO.toMIDI(myPattern, path='./', name='test')"
   ]
  },
  {
   "cell_type": "code",
   "execution_count": null,
   "metadata": {
    "collapsed": true
   },
   "outputs": [],
   "source": [
    ""
   ]
  }
 ],
 "metadata": {
  "kernelspec": {
   "display_name": "Python 2",
   "language": "python",
   "name": "python2"
  },
  "language_info": {
   "codemirror_mode": {
    "name": "ipython",
    "version": 2.0
   },
   "file_extension": ".py",
   "mimetype": "text/x-python",
   "name": "python",
   "nbconvert_exporter": "python",
   "pygments_lexer": "ipython2",
   "version": "2.7.12"
  }
 },
 "nbformat": 4,
 "nbformat_minor": 0
}